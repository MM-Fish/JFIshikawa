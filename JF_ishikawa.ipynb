{
 "cells": [
  {
   "cell_type": "code",
   "execution_count": 1,
   "metadata": {},
   "outputs": [],
   "source": [
    "import csv\n",
    "import gspread\n",
    "from gspread_dataframe import get_as_dataframe, set_with_dataframe\n",
    "from scrape_modules import ScrapeIshikawa"
   ]
  },
  {
   "cell_type": "code",
   "execution_count": 2,
   "metadata": {},
   "outputs": [],
   "source": [
    "si = ScrapeIshikawa()\n",
    "driver = si.open_driver(False)\n",
    "sikyou_url_list = si.get_sikyou_url(driver)\n",
    "si.scrape_sikyou_all(driver, sikyou_url_list)\n",
    "driver.quit()"
   ]
  },
  {
   "cell_type": "code",
   "execution_count": 3,
   "metadata": {},
   "outputs": [
    {
     "output_type": "execute_result",
     "data": {
      "text/plain": [
       "              日付  漁　法               銘　柄 卸売数量[kg] 高値[円/kg] 平均[円/kg] 安値[円/kg]  \\\n",
       "0    2020年11月30日  底曳網  あかがい(ｴｿﾞﾎﾞﾗﾓﾄﾞｷ)      195     1400      556      200   \n",
       "1    2020年11月30日  底曳網             あかがれい      465     1500     1198      667   \n",
       "2    2020年11月30日  底曳網      あわてがれい(ｿｳﾊﾁ)       66      667      585      433   \n",
       "3    2020年11月30日  底曳網              あんこう       20     1000      900      800   \n",
       "4    2020年11月30日  底曳網  がすえび(ﾄｹﾞｻﾞｺｴﾋﾞ他)       42     3333     2208      333   \n",
       "..           ...  ...               ...      ...      ...      ...      ...   \n",
       "226  2020年11月24日  いか釣              やりいか       28     1750     1500     1000   \n",
       "227  2020年11月24日   刺網              あまだい      123     4100     2494     1000   \n",
       "228  2020年11月24日   刺網       めっきだい(ｷﾀﾞｲ)       72      500      303      200   \n",
       "229  2020年11月24日   刺網    やなぎばちめ(ｳｽﾒﾊﾞﾙ)       32     1800     1486     1000   \n",
       "230  2020年11月24日  その他           べにずわいがに      393      567      567      567   \n",
       "\n",
       "    1箱重量[kg]  \n",
       "0          5  \n",
       "1          3  \n",
       "2          3  \n",
       "3          5  \n",
       "4          3  \n",
       "..       ...  \n",
       "226        4  \n",
       "227        3  \n",
       "228        3  \n",
       "229        3  \n",
       "230        -  \n",
       "\n",
       "[231 rows x 8 columns]"
      ],
      "text/html": "<div>\n<style scoped>\n    .dataframe tbody tr th:only-of-type {\n        vertical-align: middle;\n    }\n\n    .dataframe tbody tr th {\n        vertical-align: top;\n    }\n\n    .dataframe thead th {\n        text-align: right;\n    }\n</style>\n<table border=\"1\" class=\"dataframe\">\n  <thead>\n    <tr style=\"text-align: right;\">\n      <th></th>\n      <th>日付</th>\n      <th>漁　法</th>\n      <th>銘　柄</th>\n      <th>卸売数量[kg]</th>\n      <th>高値[円/kg]</th>\n      <th>平均[円/kg]</th>\n      <th>安値[円/kg]</th>\n      <th>1箱重量[kg]</th>\n    </tr>\n  </thead>\n  <tbody>\n    <tr>\n      <th>0</th>\n      <td>2020年11月30日</td>\n      <td>底曳網</td>\n      <td>あかがい(ｴｿﾞﾎﾞﾗﾓﾄﾞｷ)</td>\n      <td>195</td>\n      <td>1400</td>\n      <td>556</td>\n      <td>200</td>\n      <td>5</td>\n    </tr>\n    <tr>\n      <th>1</th>\n      <td>2020年11月30日</td>\n      <td>底曳網</td>\n      <td>あかがれい</td>\n      <td>465</td>\n      <td>1500</td>\n      <td>1198</td>\n      <td>667</td>\n      <td>3</td>\n    </tr>\n    <tr>\n      <th>2</th>\n      <td>2020年11月30日</td>\n      <td>底曳網</td>\n      <td>あわてがれい(ｿｳﾊﾁ)</td>\n      <td>66</td>\n      <td>667</td>\n      <td>585</td>\n      <td>433</td>\n      <td>3</td>\n    </tr>\n    <tr>\n      <th>3</th>\n      <td>2020年11月30日</td>\n      <td>底曳網</td>\n      <td>あんこう</td>\n      <td>20</td>\n      <td>1000</td>\n      <td>900</td>\n      <td>800</td>\n      <td>5</td>\n    </tr>\n    <tr>\n      <th>4</th>\n      <td>2020年11月30日</td>\n      <td>底曳網</td>\n      <td>がすえび(ﾄｹﾞｻﾞｺｴﾋﾞ他)</td>\n      <td>42</td>\n      <td>3333</td>\n      <td>2208</td>\n      <td>333</td>\n      <td>3</td>\n    </tr>\n    <tr>\n      <th>...</th>\n      <td>...</td>\n      <td>...</td>\n      <td>...</td>\n      <td>...</td>\n      <td>...</td>\n      <td>...</td>\n      <td>...</td>\n      <td>...</td>\n    </tr>\n    <tr>\n      <th>226</th>\n      <td>2020年11月24日</td>\n      <td>いか釣</td>\n      <td>やりいか</td>\n      <td>28</td>\n      <td>1750</td>\n      <td>1500</td>\n      <td>1000</td>\n      <td>4</td>\n    </tr>\n    <tr>\n      <th>227</th>\n      <td>2020年11月24日</td>\n      <td>刺網</td>\n      <td>あまだい</td>\n      <td>123</td>\n      <td>4100</td>\n      <td>2494</td>\n      <td>1000</td>\n      <td>3</td>\n    </tr>\n    <tr>\n      <th>228</th>\n      <td>2020年11月24日</td>\n      <td>刺網</td>\n      <td>めっきだい(ｷﾀﾞｲ)</td>\n      <td>72</td>\n      <td>500</td>\n      <td>303</td>\n      <td>200</td>\n      <td>3</td>\n    </tr>\n    <tr>\n      <th>229</th>\n      <td>2020年11月24日</td>\n      <td>刺網</td>\n      <td>やなぎばちめ(ｳｽﾒﾊﾞﾙ)</td>\n      <td>32</td>\n      <td>1800</td>\n      <td>1486</td>\n      <td>1000</td>\n      <td>3</td>\n    </tr>\n    <tr>\n      <th>230</th>\n      <td>2020年11月24日</td>\n      <td>その他</td>\n      <td>べにずわいがに</td>\n      <td>393</td>\n      <td>567</td>\n      <td>567</td>\n      <td>567</td>\n      <td>-</td>\n    </tr>\n  </tbody>\n</table>\n<p>231 rows × 8 columns</p>\n</div>"
     },
     "metadata": {},
     "execution_count": 3
    }
   ],
   "source": [
    "si.data"
   ]
  }
 ],
 "metadata": {
  "kernelspec": {
   "display_name": "Python 3.7.5 64-bit ('py37': conda)",
   "language": "python",
   "name": "python37564bitpy37condacdffe388484e45ae8019251fb57159e3"
  },
  "language_info": {
   "codemirror_mode": {
    "name": "ipython",
    "version": 3
   },
   "file_extension": ".py",
   "mimetype": "text/x-python",
   "name": "python",
   "nbconvert_exporter": "python",
   "pygments_lexer": "ipython3",
   "version": "3.7.5-final"
  }
 },
 "nbformat": 4,
 "nbformat_minor": 2
}