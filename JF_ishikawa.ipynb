{
 "cells": [
  {
   "cell_type": "code",
   "execution_count": 1,
   "metadata": {},
   "outputs": [],
   "source": [
    "from scrape_modules import ScrapeIshikawa"
   ]
  },
  {
   "cell_type": "code",
   "execution_count": 2,
   "metadata": {},
   "outputs": [],
   "source": [
    "# データスクレイピング\n",
    "sps_url = 'https://docs.google.com/spreadsheets/d/122n2pFCKfEffGkR4BiyJyImfkvntuCIg8oaBP_8g_X8/edit#gid=0'\n",
    "si = ScrapeIshikawa(sps_url)\n",
    "driver = si.open_driver(False)\n",
    "sikyou_url_list = si.scrape_sikyou_url(driver)\n",
    "sikyou_url_list_new = si.get_sikyou_url_new(sikyou_url_list)\n",
    "si.scrape_sikyou_all(driver, sikyou_url_list_new)\n",
    "driver.quit()"
   ]
  },
  {
   "cell_type": "code",
   "execution_count": 3,
   "metadata": {},
   "outputs": [],
   "source": [
    "# データ結合\n",
    "si.concat_new_data()"
   ]
  },
  {
   "cell_type": "code",
   "execution_count": 4,
   "metadata": {},
   "outputs": [
    {
     "output_type": "execute_result",
     "data": {
      "text/plain": [
       "              日付  漁　法               銘　柄  卸売数量[kg]  高値[円/kg]  平均[円/kg]  \\\n",
       "0    2020年11月30日  底曳網  あかがい(ｴｿﾞﾎﾞﾗﾓﾄﾞｷ)     195.0    1400.0     556.0   \n",
       "1    2020年11月30日  底曳網             あかがれい     465.0    1500.0    1198.0   \n",
       "2    2020年11月30日  底曳網      あわてがれい(ｿｳﾊﾁ)      66.0     667.0     585.0   \n",
       "3    2020年11月30日  底曳網              あんこう      20.0    1000.0     900.0   \n",
       "4    2020年11月30日  底曳網  がすえび(ﾄｹﾞｻﾞｺｴﾋﾞ他)      42.0    3333.0    2208.0   \n",
       "..           ...  ...               ...       ...       ...       ...   \n",
       "226  2020年11月24日  いか釣              やりいか      28.0    1750.0    1500.0   \n",
       "227  2020年11月24日   刺網              あまだい     123.0    4100.0    2494.0   \n",
       "228  2020年11月24日   刺網       めっきだい(ｷﾀﾞｲ)      72.0     500.0     303.0   \n",
       "229  2020年11月24日   刺網    やなぎばちめ(ｳｽﾒﾊﾞﾙ)      32.0    1800.0    1486.0   \n",
       "230  2020年11月24日  その他           べにずわいがに     393.0     567.0     567.0   \n",
       "\n",
       "     安値[円/kg] 1箱重量[kg]  \n",
       "0       200.0        5  \n",
       "1       667.0        3  \n",
       "2       433.0        3  \n",
       "3       800.0        5  \n",
       "4       333.0        3  \n",
       "..        ...      ...  \n",
       "226    1000.0        4  \n",
       "227    1000.0        3  \n",
       "228     200.0        3  \n",
       "229    1000.0        3  \n",
       "230     567.0        -  \n",
       "\n",
       "[231 rows x 8 columns]"
      ],
      "text/html": "<div>\n<style scoped>\n    .dataframe tbody tr th:only-of-type {\n        vertical-align: middle;\n    }\n\n    .dataframe tbody tr th {\n        vertical-align: top;\n    }\n\n    .dataframe thead th {\n        text-align: right;\n    }\n</style>\n<table border=\"1\" class=\"dataframe\">\n  <thead>\n    <tr style=\"text-align: right;\">\n      <th></th>\n      <th>日付</th>\n      <th>漁　法</th>\n      <th>銘　柄</th>\n      <th>卸売数量[kg]</th>\n      <th>高値[円/kg]</th>\n      <th>平均[円/kg]</th>\n      <th>安値[円/kg]</th>\n      <th>1箱重量[kg]</th>\n    </tr>\n  </thead>\n  <tbody>\n    <tr>\n      <th>0</th>\n      <td>2020年11月30日</td>\n      <td>底曳網</td>\n      <td>あかがい(ｴｿﾞﾎﾞﾗﾓﾄﾞｷ)</td>\n      <td>195.0</td>\n      <td>1400.0</td>\n      <td>556.0</td>\n      <td>200.0</td>\n      <td>5</td>\n    </tr>\n    <tr>\n      <th>1</th>\n      <td>2020年11月30日</td>\n      <td>底曳網</td>\n      <td>あかがれい</td>\n      <td>465.0</td>\n      <td>1500.0</td>\n      <td>1198.0</td>\n      <td>667.0</td>\n      <td>3</td>\n    </tr>\n    <tr>\n      <th>2</th>\n      <td>2020年11月30日</td>\n      <td>底曳網</td>\n      <td>あわてがれい(ｿｳﾊﾁ)</td>\n      <td>66.0</td>\n      <td>667.0</td>\n      <td>585.0</td>\n      <td>433.0</td>\n      <td>3</td>\n    </tr>\n    <tr>\n      <th>3</th>\n      <td>2020年11月30日</td>\n      <td>底曳網</td>\n      <td>あんこう</td>\n      <td>20.0</td>\n      <td>1000.0</td>\n      <td>900.0</td>\n      <td>800.0</td>\n      <td>5</td>\n    </tr>\n    <tr>\n      <th>4</th>\n      <td>2020年11月30日</td>\n      <td>底曳網</td>\n      <td>がすえび(ﾄｹﾞｻﾞｺｴﾋﾞ他)</td>\n      <td>42.0</td>\n      <td>3333.0</td>\n      <td>2208.0</td>\n      <td>333.0</td>\n      <td>3</td>\n    </tr>\n    <tr>\n      <th>...</th>\n      <td>...</td>\n      <td>...</td>\n      <td>...</td>\n      <td>...</td>\n      <td>...</td>\n      <td>...</td>\n      <td>...</td>\n      <td>...</td>\n    </tr>\n    <tr>\n      <th>226</th>\n      <td>2020年11月24日</td>\n      <td>いか釣</td>\n      <td>やりいか</td>\n      <td>28.0</td>\n      <td>1750.0</td>\n      <td>1500.0</td>\n      <td>1000.0</td>\n      <td>4</td>\n    </tr>\n    <tr>\n      <th>227</th>\n      <td>2020年11月24日</td>\n      <td>刺網</td>\n      <td>あまだい</td>\n      <td>123.0</td>\n      <td>4100.0</td>\n      <td>2494.0</td>\n      <td>1000.0</td>\n      <td>3</td>\n    </tr>\n    <tr>\n      <th>228</th>\n      <td>2020年11月24日</td>\n      <td>刺網</td>\n      <td>めっきだい(ｷﾀﾞｲ)</td>\n      <td>72.0</td>\n      <td>500.0</td>\n      <td>303.0</td>\n      <td>200.0</td>\n      <td>3</td>\n    </tr>\n    <tr>\n      <th>229</th>\n      <td>2020年11月24日</td>\n      <td>刺網</td>\n      <td>やなぎばちめ(ｳｽﾒﾊﾞﾙ)</td>\n      <td>32.0</td>\n      <td>1800.0</td>\n      <td>1486.0</td>\n      <td>1000.0</td>\n      <td>3</td>\n    </tr>\n    <tr>\n      <th>230</th>\n      <td>2020年11月24日</td>\n      <td>その他</td>\n      <td>べにずわいがに</td>\n      <td>393.0</td>\n      <td>567.0</td>\n      <td>567.0</td>\n      <td>567.0</td>\n      <td>-</td>\n    </tr>\n  </tbody>\n</table>\n<p>231 rows × 8 columns</p>\n</div>"
     },
     "metadata": {},
     "execution_count": 4
    }
   ],
   "source": [
    "# データ確認\n",
    "si.sps_data_new"
   ]
  },
  {
   "cell_type": "code",
   "execution_count": 7,
   "metadata": {},
   "outputs": [],
   "source": [
    "# データ保存\n",
    "si.save_sps()"
   ]
  }
 ],
 "metadata": {
  "kernelspec": {
   "display_name": "Python 3.7.5 64-bit ('py37': conda)",
   "language": "python",
   "name": "python37564bitpy37condacdffe388484e45ae8019251fb57159e3"
  },
  "language_info": {
   "codemirror_mode": {
    "name": "ipython",
    "version": 3
   },
   "file_extension": ".py",
   "mimetype": "text/x-python",
   "name": "python",
   "nbconvert_exporter": "python",
   "pygments_lexer": "ipython3",
   "version": "3.7.5-final"
  }
 },
 "nbformat": 4,
 "nbformat_minor": 2
}