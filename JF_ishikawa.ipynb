{
 "cells": [
  {
   "cell_type": "code",
   "execution_count": null,
   "metadata": {},
   "outputs": [],
   "source": [
    "import json\n",
    "import gspread\n",
    "from gspread_dataframe import get_as_dataframe, set_with_dataframe\n",
    "from oauth2client.service_account import ServiceAccountCredentials \n",
    "from scrape_modules import ScrapeIshikawa"
   ]
  },
  {
   "cell_type": "code",
   "execution_count": null,
   "metadata": {},
   "outputs": [],
   "source": [
    "si = ScrapeIshikawa()\n",
    "driver = si.open_driver(False)\n",
    "sikyou_url_list = si.scrape_sikyou_url(driver)\n",
    "si.scrape_sikyou_all(driver, sikyou_url_list)\n",
    "driver.quit()"
   ]
  },
  {
   "cell_type": "code",
   "execution_count": null,
   "metadata": {},
   "outputs": [],
   "source": [
    "si.data"
   ]
  },
  {
   "cell_type": "code",
   "execution_count": null,
   "metadata": {},
   "outputs": [],
   "source": [
    "# スプレッドシートにアクセス\n",
    "\n",
    "#認証情報設定\n",
    "scope = ['https://spreadsheets.google.com/feeds','https://www.googleapis.com/auth/drive']\n",
    "credentials = ServiceAccountCredentials.from_json_keyfile_name('jfishikawa-297306-53b695eb342f.json', scope)\n",
    "\n",
    "#OAuth2の資格情報を使用してGoogle APIにログイン\n",
    "gc = gspread.authorize(credentials)"
   ]
  },
  {
   "cell_type": "code",
   "execution_count": null,
   "metadata": {},
   "outputs": [],
   "source": [
    "# データ更新\n",
    "worksheet = gc.open_by_url('https://docs.google.com/spreadsheets/d/122n2pFCKfEffGkR4BiyJyImfkvntuCIg8oaBP_8g_X8/edit#gid=0').sheet1\n",
    "set_with_dataframe(worksheet, si.data)"
   ]
  }
 ],
 "metadata": {
  "kernelspec": {
   "display_name": "Python 3.7.5 64-bit ('py37': conda)",
   "language": "python",
   "name": "python37564bitpy37condacdffe388484e45ae8019251fb57159e3"
  },
  "language_info": {
   "codemirror_mode": {
    "name": "ipython",
    "version": 3
   },
   "file_extension": ".py",
   "mimetype": "text/x-python",
   "name": "python",
   "nbconvert_exporter": "python",
   "pygments_lexer": "ipython3",
   "version": "3.7.5-final"
  }
 },
 "nbformat": 4,
 "nbformat_minor": 2
}