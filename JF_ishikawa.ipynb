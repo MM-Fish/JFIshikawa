{
 "cells": [
  {
   "cell_type": "code",
   "execution_count": 1,
   "metadata": {},
   "outputs": [],
   "source": [
    "from scrape_modules import ScrapeIshikawa\n",
    "import requests, json\n",
    "import slackweb\n",
    "json_open = open('important.json', 'r')\n",
    "important_list = json.load(json_open)"
   ]
  },
  {
   "cell_type": "code",
   "execution_count": 2,
   "metadata": {},
   "outputs": [],
   "source": [
    "# データスクレイピング\n",
    "sps_url = important_list['sps_url']\n",
    "si = ScrapeIshikawa(sps_url)\n",
    "driver = si.open_driver(False)\n",
    "sikyou_url_list = si.scrape_sikyou_url(driver)\n",
    "sikyou_url_list_new = si.get_sikyou_url_new(sikyou_url_list)\n",
    "si.scrape_sikyou_all(driver, sikyou_url_list_new)\n",
    "# si.scrape_sikyou_all(driver, sikyou_url_list)\n",
    "driver.quit()"
   ]
  },
  {
   "cell_type": "code",
   "execution_count": 3,
   "metadata": {},
   "outputs": [],
   "source": [
    "# 魚種列，目方列追加\n",
    "df_species = si.scrape_data['銘　柄'].map(lambda x: si.container2species_size(x)[0])\n",
    "df_size = si.scrape_data['銘　柄'].map(lambda x: si.container2species_size(x)[1])\n",
    "si.scrape_data.insert(3, '魚種',df_species)\n",
    "si.scrape_data.insert(4, '目方',df_size)"
   ]
  },
  {
   "cell_type": "code",
   "execution_count": 4,
   "metadata": {},
   "outputs": [],
   "source": [
    "# データ結合\n",
    "si.concat_new_data()"
   ]
  },
  {
   "cell_type": "code",
   "execution_count": 5,
   "metadata": {},
   "outputs": [
    {
     "output_type": "stream",
     "name": "stdout",
     "text": [
      "393\n0\n393\n"
     ]
    },
    {
     "output_type": "execute_result",
     "data": {
      "text/plain": [
       "0            日付  漁　法               銘　柄       魚種   目方 卸売数量[kg] 高値[円/kg]  \\\n",
       "0    2020-12-13  底曳網  あかがい(ｴｿﾞﾎﾞﾗﾓﾄﾞｷ)     あかがい    -       45      460   \n",
       "1    2020-12-13  いか釣        するめいか(ﾊﾞﾗ)    するめいか  ﾊﾞﾗ      235      700   \n",
       "2    2020-12-13  底曳網             あかがれい    あかがれい    -      384     1167   \n",
       "3    2020-12-13  その他           べにずわいがに  べにずわいがに    -      231      567   \n",
       "4    2020-12-13  その他               さめ類      さめ類    -       12      167   \n",
       "..          ...  ...               ...      ...  ...      ...      ...   \n",
       "388  2020-12-02  底曳網     加能ガニ(ｽﾞﾜｲｶﾞﾆ)     加能ガニ    -      136     8750   \n",
       "389  2020-12-02  底曳網  加能ガニ10入(ｽﾞﾜｲｶﾞﾆ)     加能ガニ  10入       80    15000   \n",
       "390  2020-12-02  底曳網   加能ガニ4入(ｽﾞﾜｲｶﾞﾆ)     加能ガニ   4入      172    20750   \n",
       "391  2020-12-02  底曳網               まだら      まだら    -       50     1900   \n",
       "392  2020-12-02  底曳網  がすえび(ﾄｹﾞｻﾞｺｴﾋﾞ他)     がすえび    -       45     3333   \n",
       "\n",
       "0   平均[円/kg] 安値[円/kg] 1箱重量[kg]  \n",
       "0        320      120        5  \n",
       "1        500      300        5  \n",
       "2        872      333        3  \n",
       "3        567      567        -  \n",
       "4        125       83        6  \n",
       "..       ...      ...      ...  \n",
       "388     4905      375        4  \n",
       "389    11147     6000        4  \n",
       "390    14219     7750        4  \n",
       "391      940      400        5  \n",
       "392     2295     1333        3  \n",
       "\n",
       "[393 rows x 10 columns]"
      ],
      "text/html": "<div>\n<style scoped>\n    .dataframe tbody tr th:only-of-type {\n        vertical-align: middle;\n    }\n\n    .dataframe tbody tr th {\n        vertical-align: top;\n    }\n\n    .dataframe thead th {\n        text-align: right;\n    }\n</style>\n<table border=\"1\" class=\"dataframe\">\n  <thead>\n    <tr style=\"text-align: right;\">\n      <th></th>\n      <th>日付</th>\n      <th>漁　法</th>\n      <th>銘　柄</th>\n      <th>魚種</th>\n      <th>目方</th>\n      <th>卸売数量[kg]</th>\n      <th>高値[円/kg]</th>\n      <th>平均[円/kg]</th>\n      <th>安値[円/kg]</th>\n      <th>1箱重量[kg]</th>\n    </tr>\n  </thead>\n  <tbody>\n    <tr>\n      <th>0</th>\n      <td>2020-12-13</td>\n      <td>底曳網</td>\n      <td>あかがい(ｴｿﾞﾎﾞﾗﾓﾄﾞｷ)</td>\n      <td>あかがい</td>\n      <td>-</td>\n      <td>45</td>\n      <td>460</td>\n      <td>320</td>\n      <td>120</td>\n      <td>5</td>\n    </tr>\n    <tr>\n      <th>1</th>\n      <td>2020-12-13</td>\n      <td>いか釣</td>\n      <td>するめいか(ﾊﾞﾗ)</td>\n      <td>するめいか</td>\n      <td>ﾊﾞﾗ</td>\n      <td>235</td>\n      <td>700</td>\n      <td>500</td>\n      <td>300</td>\n      <td>5</td>\n    </tr>\n    <tr>\n      <th>2</th>\n      <td>2020-12-13</td>\n      <td>底曳網</td>\n      <td>あかがれい</td>\n      <td>あかがれい</td>\n      <td>-</td>\n      <td>384</td>\n      <td>1167</td>\n      <td>872</td>\n      <td>333</td>\n      <td>3</td>\n    </tr>\n    <tr>\n      <th>3</th>\n      <td>2020-12-13</td>\n      <td>その他</td>\n      <td>べにずわいがに</td>\n      <td>べにずわいがに</td>\n      <td>-</td>\n      <td>231</td>\n      <td>567</td>\n      <td>567</td>\n      <td>567</td>\n      <td>-</td>\n    </tr>\n    <tr>\n      <th>4</th>\n      <td>2020-12-13</td>\n      <td>その他</td>\n      <td>さめ類</td>\n      <td>さめ類</td>\n      <td>-</td>\n      <td>12</td>\n      <td>167</td>\n      <td>125</td>\n      <td>83</td>\n      <td>6</td>\n    </tr>\n    <tr>\n      <th>...</th>\n      <td>...</td>\n      <td>...</td>\n      <td>...</td>\n      <td>...</td>\n      <td>...</td>\n      <td>...</td>\n      <td>...</td>\n      <td>...</td>\n      <td>...</td>\n      <td>...</td>\n    </tr>\n    <tr>\n      <th>388</th>\n      <td>2020-12-02</td>\n      <td>底曳網</td>\n      <td>加能ガニ(ｽﾞﾜｲｶﾞﾆ)</td>\n      <td>加能ガニ</td>\n      <td>-</td>\n      <td>136</td>\n      <td>8750</td>\n      <td>4905</td>\n      <td>375</td>\n      <td>4</td>\n    </tr>\n    <tr>\n      <th>389</th>\n      <td>2020-12-02</td>\n      <td>底曳網</td>\n      <td>加能ガニ10入(ｽﾞﾜｲｶﾞﾆ)</td>\n      <td>加能ガニ</td>\n      <td>10入</td>\n      <td>80</td>\n      <td>15000</td>\n      <td>11147</td>\n      <td>6000</td>\n      <td>4</td>\n    </tr>\n    <tr>\n      <th>390</th>\n      <td>2020-12-02</td>\n      <td>底曳網</td>\n      <td>加能ガニ4入(ｽﾞﾜｲｶﾞﾆ)</td>\n      <td>加能ガニ</td>\n      <td>4入</td>\n      <td>172</td>\n      <td>20750</td>\n      <td>14219</td>\n      <td>7750</td>\n      <td>4</td>\n    </tr>\n    <tr>\n      <th>391</th>\n      <td>2020-12-02</td>\n      <td>底曳網</td>\n      <td>まだら</td>\n      <td>まだら</td>\n      <td>-</td>\n      <td>50</td>\n      <td>1900</td>\n      <td>940</td>\n      <td>400</td>\n      <td>5</td>\n    </tr>\n    <tr>\n      <th>392</th>\n      <td>2020-12-02</td>\n      <td>底曳網</td>\n      <td>がすえび(ﾄｹﾞｻﾞｺｴﾋﾞ他)</td>\n      <td>がすえび</td>\n      <td>-</td>\n      <td>45</td>\n      <td>3333</td>\n      <td>2295</td>\n      <td>1333</td>\n      <td>3</td>\n    </tr>\n  </tbody>\n</table>\n<p>393 rows × 10 columns</p>\n</div>"
     },
     "metadata": {},
     "execution_count": 5
    }
   ],
   "source": [
    "# データ確認\n",
    "print(len(si.sps_data))\n",
    "print(len(si.scrape_data))\n",
    "print(len(si.sps_data_new))\n",
    "si.sps_data_new"
   ]
  },
  {
   "cell_type": "code",
   "execution_count": 6,
   "metadata": {},
   "outputs": [],
   "source": [
    "# データ保存\n",
    "si.save_sps('市況')"
   ]
  },
  {
   "cell_type": "code",
   "execution_count": 7,
   "metadata": {},
   "outputs": [
    {
     "output_type": "execute_result",
     "data": {
      "text/plain": [
       "           日付   あかがい   あかがれい    かわはぎ    がすえび       するめいか  なめたがれい    ばいがい  \\\n",
       "0  2020-12-02  552.0  1259.0   570.5  2295.0  990.000000   560.0  1160.0   \n",
       "1  2020-12-03    NaN     NaN     NaN     NaN  793.500000     NaN     NaN   \n",
       "2  2020-12-04    NaN     NaN  1500.0  1952.0  948.333333   722.0     NaN   \n",
       "3  2020-12-06  597.0  1165.0     NaN  3038.0  681.600000   469.0   779.0   \n",
       "4  2020-12-07  499.0  1005.0  1062.5  1665.0  630.200000   358.0   576.0   \n",
       "\n",
       "     ほっけ     まだい  ...  ひらめ  がんど活〆  きんめだい  くろだい  はたはた  まあじ  あら  さこだい  さめ類  ぶり活〆  \n",
       "0  500.0  1258.0  ...  NaN    NaN    NaN   NaN   NaN  NaN NaN   NaN  NaN   NaN  \n",
       "1    NaN     NaN  ...  NaN    NaN    NaN   NaN   NaN  NaN NaN   NaN  NaN   NaN  \n",
       "2  312.0     NaN  ...  NaN    NaN    NaN   NaN   NaN  NaN NaN   NaN  NaN   NaN  \n",
       "3    NaN     NaN  ...  NaN    NaN    NaN   NaN   NaN  NaN NaN   NaN  NaN   NaN  \n",
       "4  400.0   892.0  ...  NaN    NaN    NaN   NaN   NaN  NaN NaN   NaN  NaN   NaN  \n",
       "\n",
       "[5 rows x 55 columns]"
      ],
      "text/html": "<div>\n<style scoped>\n    .dataframe tbody tr th:only-of-type {\n        vertical-align: middle;\n    }\n\n    .dataframe tbody tr th {\n        vertical-align: top;\n    }\n\n    .dataframe thead th {\n        text-align: right;\n    }\n</style>\n<table border=\"1\" class=\"dataframe\">\n  <thead>\n    <tr style=\"text-align: right;\">\n      <th></th>\n      <th>日付</th>\n      <th>あかがい</th>\n      <th>あかがれい</th>\n      <th>かわはぎ</th>\n      <th>がすえび</th>\n      <th>するめいか</th>\n      <th>なめたがれい</th>\n      <th>ばいがい</th>\n      <th>ほっけ</th>\n      <th>まだい</th>\n      <th>...</th>\n      <th>ひらめ</th>\n      <th>がんど活〆</th>\n      <th>きんめだい</th>\n      <th>くろだい</th>\n      <th>はたはた</th>\n      <th>まあじ</th>\n      <th>あら</th>\n      <th>さこだい</th>\n      <th>さめ類</th>\n      <th>ぶり活〆</th>\n    </tr>\n  </thead>\n  <tbody>\n    <tr>\n      <th>0</th>\n      <td>2020-12-02</td>\n      <td>552.0</td>\n      <td>1259.0</td>\n      <td>570.5</td>\n      <td>2295.0</td>\n      <td>990.000000</td>\n      <td>560.0</td>\n      <td>1160.0</td>\n      <td>500.0</td>\n      <td>1258.0</td>\n      <td>...</td>\n      <td>NaN</td>\n      <td>NaN</td>\n      <td>NaN</td>\n      <td>NaN</td>\n      <td>NaN</td>\n      <td>NaN</td>\n      <td>NaN</td>\n      <td>NaN</td>\n      <td>NaN</td>\n      <td>NaN</td>\n    </tr>\n    <tr>\n      <th>1</th>\n      <td>2020-12-03</td>\n      <td>NaN</td>\n      <td>NaN</td>\n      <td>NaN</td>\n      <td>NaN</td>\n      <td>793.500000</td>\n      <td>NaN</td>\n      <td>NaN</td>\n      <td>NaN</td>\n      <td>NaN</td>\n      <td>...</td>\n      <td>NaN</td>\n      <td>NaN</td>\n      <td>NaN</td>\n      <td>NaN</td>\n      <td>NaN</td>\n      <td>NaN</td>\n      <td>NaN</td>\n      <td>NaN</td>\n      <td>NaN</td>\n      <td>NaN</td>\n    </tr>\n    <tr>\n      <th>2</th>\n      <td>2020-12-04</td>\n      <td>NaN</td>\n      <td>NaN</td>\n      <td>1500.0</td>\n      <td>1952.0</td>\n      <td>948.333333</td>\n      <td>722.0</td>\n      <td>NaN</td>\n      <td>312.0</td>\n      <td>NaN</td>\n      <td>...</td>\n      <td>NaN</td>\n      <td>NaN</td>\n      <td>NaN</td>\n      <td>NaN</td>\n      <td>NaN</td>\n      <td>NaN</td>\n      <td>NaN</td>\n      <td>NaN</td>\n      <td>NaN</td>\n      <td>NaN</td>\n    </tr>\n    <tr>\n      <th>3</th>\n      <td>2020-12-06</td>\n      <td>597.0</td>\n      <td>1165.0</td>\n      <td>NaN</td>\n      <td>3038.0</td>\n      <td>681.600000</td>\n      <td>469.0</td>\n      <td>779.0</td>\n      <td>NaN</td>\n      <td>NaN</td>\n      <td>...</td>\n      <td>NaN</td>\n      <td>NaN</td>\n      <td>NaN</td>\n      <td>NaN</td>\n      <td>NaN</td>\n      <td>NaN</td>\n      <td>NaN</td>\n      <td>NaN</td>\n      <td>NaN</td>\n      <td>NaN</td>\n    </tr>\n    <tr>\n      <th>4</th>\n      <td>2020-12-07</td>\n      <td>499.0</td>\n      <td>1005.0</td>\n      <td>1062.5</td>\n      <td>1665.0</td>\n      <td>630.200000</td>\n      <td>358.0</td>\n      <td>576.0</td>\n      <td>400.0</td>\n      <td>892.0</td>\n      <td>...</td>\n      <td>NaN</td>\n      <td>NaN</td>\n      <td>NaN</td>\n      <td>NaN</td>\n      <td>NaN</td>\n      <td>NaN</td>\n      <td>NaN</td>\n      <td>NaN</td>\n      <td>NaN</td>\n      <td>NaN</td>\n    </tr>\n  </tbody>\n</table>\n<p>5 rows × 55 columns</p>\n</div>"
     },
     "metadata": {},
     "execution_count": 7
    }
   ],
   "source": [
    "# 魚種に対して全サイズの平均価格を算出。\n",
    "# 魚種を列，日付を行としたデータフレームを作成。\n",
    "df_per_day = si.merge_per_day()\n",
    "df_per_day.head(5)"
   ]
  },
  {
   "cell_type": "code",
   "execution_count": 8,
   "metadata": {},
   "outputs": [],
   "source": [
    "# データ保存\n",
    "si.set_with_df(\"by_species\", df_per_day)"
   ]
  },
  {
   "cell_type": "code",
   "execution_count": 9,
   "metadata": {},
   "outputs": [],
   "source": [
    "# 魚種に対して全サイズの平均価格を算出し，データフレームに格納\n",
    "df_per_day_and_species = si.merge_all_per_ds()\n",
    "df_per_day_and_species.head(5)\n",
    "df_per_day_and_species.fillna(0, inplace=True)"
   ]
  },
  {
   "cell_type": "code",
   "execution_count": 10,
   "metadata": {},
   "outputs": [],
   "source": [
    "# データ保存\n",
    "si.set_with_df(\"by_species_size\", df_per_day_and_species)"
   ]
  },
  {
   "cell_type": "code",
   "execution_count": 11,
   "metadata": {},
   "outputs": [
    {
     "output_type": "execute_result",
     "data": {
      "text/plain": [
       "<Response [200]>"
      ]
     },
     "metadata": {},
     "execution_count": 11
    }
   ],
   "source": [
    "# slackに通知\n",
    "content = {\n",
    "    \"icon_url\" : \"https://drive.google.com/uc?export=view&id=1bbPewWm7dHriVWqHQ2IJe3uzwbN1-RHE\",\n",
    "    'username': \"JF石川市況\",\n",
    "    \"text\": f\"JF石川の市況データを更新しました\\n{important_list['sps_url']}\"\n",
    "    }\n",
    "\n",
    "webhook_url = important_list[\"slack_webhook_url\"]\n",
    "requests.post(webhook_url, data = json.dumps(content))"
   ]
  }
 ],
 "metadata": {
  "kernelspec": {
   "display_name": "Python 3.7.5 64-bit ('py37': conda)",
   "language": "python",
   "name": "python37564bitpy37condacdffe388484e45ae8019251fb57159e3"
  },
  "language_info": {
   "codemirror_mode": {
    "name": "ipython",
    "version": 3
   },
   "file_extension": ".py",
   "mimetype": "text/x-python",
   "name": "python",
   "nbconvert_exporter": "python",
   "pygments_lexer": "ipython3",
   "version": "3.7.5-final"
  }
 },
 "nbformat": 4,
 "nbformat_minor": 2
}