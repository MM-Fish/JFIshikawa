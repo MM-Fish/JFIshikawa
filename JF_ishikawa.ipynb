{
 "cells": [
  {
   "cell_type": "code",
   "execution_count": null,
   "metadata": {},
   "outputs": [],
   "source": [
    "from scrape_modules import ScrapeIshikawa"
   ]
  },
  {
   "cell_type": "code",
   "execution_count": null,
   "metadata": {},
   "outputs": [],
   "source": [
    "# データスクレイピング\n",
    "sps_url = 'https://docs.google.com/spreadsheets/d/122n2pFCKfEffGkR4BiyJyImfkvntuCIg8oaBP_8g_X8/edit#gid=0'\n",
    "si = ScrapeIshikawa(sps_url)\n",
    "driver = si.open_driver(False)\n",
    "sikyou_url_list = si.scrape_sikyou_url(driver)\n",
    "sikyou_url_list_new = si.get_sikyou_url_new(sikyou_url_list)\n",
    "si.scrape_sikyou_all(driver, sikyou_url_list_new)\n",
    "driver.quit()"
   ]
  },
  {
   "cell_type": "code",
   "execution_count": null,
   "metadata": {},
   "outputs": [],
   "source": [
    "# 魚種列，目方列追加\n",
    "df_species = si.scrape_data['銘　柄'].map(lambda x: si.container2species_size(x)[0])\n",
    "df_size = si.scrape_data['銘　柄'].map(lambda x: si.container2species_size(x)[1])\n",
    "si.scrape_data.insert(3, '魚種',df_species)\n",
    "si.scrape_data.insert(4, '目方',df_size)"
   ]
  },
  {
   "cell_type": "code",
   "execution_count": null,
   "metadata": {},
   "outputs": [],
   "source": [
    "# データ結合\n",
    "si.concat_new_data()"
   ]
  },
  {
   "cell_type": "code",
   "execution_count": null,
   "metadata": {},
   "outputs": [],
   "source": [
    "# データ確認\n",
    "print(len(si.sps_data))\n",
    "print(len(si.scrape_data))\n",
    "print(len(si.sps_data_new))\n",
    "si.sps_data_new"
   ]
  },
  {
   "cell_type": "code",
   "execution_count": null,
   "metadata": {},
   "outputs": [],
   "source": [
    "# データ保存\n",
    "si.save_sps()"
   ]
  }
 ],
 "metadata": {
  "kernelspec": {
   "display_name": "Python 3.7.5 64-bit ('py37': conda)",
   "language": "python",
   "name": "python37564bitpy37condacdffe388484e45ae8019251fb57159e3"
  },
  "language_info": {
   "codemirror_mode": {
    "name": "ipython",
    "version": 3
   },
   "file_extension": ".py",
   "mimetype": "text/x-python",
   "name": "python",
   "nbconvert_exporter": "python",
   "pygments_lexer": "ipython3",
   "version": "3.7.5-final"
  }
 },
 "nbformat": 4,
 "nbformat_minor": 2
}