{
 "cells": [
  {
   "cell_type": "code",
   "execution_count": 1,
   "metadata": {},
   "outputs": [],
   "source": [
    "from scrape_modules import ScrapeIshikawa\n",
    "import requests, json\n",
    "import slackweb\n",
    "json_open = open('important.json', 'r')\n",
    "important_list = json.load(json_open)"
   ]
  },
  {
   "cell_type": "code",
   "execution_count": 2,
   "metadata": {},
   "outputs": [],
   "source": [
    "# データスクレイピング\n",
    "sps_url = important_list['sps_url']\n",
    "si = ScrapeIshikawa(sps_url)\n",
    "driver = si.open_driver()\n",
    "# driver = si.open_driver(False)\n",
    "sikyou_url_list = si.scrape_sikyou_url(driver)\n",
    "sikyou_url_list_new = si.get_sikyou_url_new(sikyou_url_list)\n",
    "si.scrape_sikyou_all(driver, sikyou_url_list_new)\n",
    "# si.scrape_sikyou_all(driver, sikyou_url_list)\n",
    "driver.quit()"
   ]
  },
  {
   "cell_type": "code",
   "execution_count": 3,
   "metadata": {},
   "outputs": [],
   "source": [
    "# 魚種列，目方列追加\n",
    "df_species = si.scrape_data['銘　柄'].map(lambda x: si.container2species_size(x)[0])\n",
    "df_size = si.scrape_data['銘　柄'].map(lambda x: si.container2species_size(x)[1])\n",
    "si.scrape_data.insert(3, '魚種',df_species)\n",
    "si.scrape_data.insert(4, '目方',df_size)"
   ]
  },
  {
   "cell_type": "code",
   "execution_count": 4,
   "metadata": {},
   "outputs": [],
   "source": [
    "# データ結合\n",
    "si.concat_new_data()"
   ]
  },
  {
   "cell_type": "code",
   "execution_count": 5,
   "metadata": {},
   "outputs": [
    {
     "output_type": "stream",
     "name": "stdout",
     "text": [
      "455\n56\n511\n"
     ]
    },
    {
     "output_type": "execute_result",
     "data": {
      "text/plain": [
       "0            日付  漁　法               銘　柄      魚種   目方 卸売数量[kg] 高値[円/kg]  \\\n",
       "0    2020-12-23  底曳網  あかがい(ｴｿﾞﾎﾞﾗﾓﾄﾞｷ)    あかがい    -       85     1200   \n",
       "1    2020-12-23  底曳網   加能ガニ活魚(ｽﾞﾜｲｶﾞﾆ)  加能ガニ活魚    -       18    25000   \n",
       "2    2020-12-23  底曳網   加能ガニ天2入(ｽﾞﾜｲ足折)   加能ガニ天   2入       16     8500   \n",
       "3    2020-12-23  底曳網   加能ガニ天3入(ｽﾞﾜｲ足折)   加能ガニ天   3入       16     7000   \n",
       "4    2020-12-23  底曳網   加能ガニ天4入(ｽﾞﾜｲ足折)   加能ガニ天   4入       44    13750   \n",
       "..          ...  ...               ...     ...  ...      ...      ...   \n",
       "506  2020-12-02  底曳網  加能ガニ10入(ｽﾞﾜｲｶﾞﾆ)    加能ガニ  10入       80    15000   \n",
       "507  2020-12-02  底曳網               まだら     まだら    -       50     1900   \n",
       "508  2020-12-02  底曳網   加能ガニ8入(ｽﾞﾜｲｶﾞﾆ)    加能ガニ   8入      100    25000   \n",
       "509  2020-12-02  底曳網   加能ガニ天8入(ｽﾞﾜｲ足折)   加能ガニ天   8入       32    16250   \n",
       "510  2020-12-02  底曳網  加能ガニ天10入(ｽﾞﾜｲ足折)   加能ガニ天  10入       12    10000   \n",
       "\n",
       "0   平均[円/kg] 安値[円/kg] 1箱重量[kg]  \n",
       "0        812      100        5  \n",
       "1      14125    10500        -  \n",
       "2       4938     1000        4  \n",
       "3       5562     2500        4  \n",
       "4       7200     2500        4  \n",
       "..       ...      ...      ...  \n",
       "506    11147     6000        4  \n",
       "507      940      400        5  \n",
       "508    15861     9500        4  \n",
       "509    11781     7500        4  \n",
       "510     7500     6250        4  \n",
       "\n",
       "[511 rows x 10 columns]"
      ],
      "text/html": "<div>\n<style scoped>\n    .dataframe tbody tr th:only-of-type {\n        vertical-align: middle;\n    }\n\n    .dataframe tbody tr th {\n        vertical-align: top;\n    }\n\n    .dataframe thead th {\n        text-align: right;\n    }\n</style>\n<table border=\"1\" class=\"dataframe\">\n  <thead>\n    <tr style=\"text-align: right;\">\n      <th></th>\n      <th>日付</th>\n      <th>漁　法</th>\n      <th>銘　柄</th>\n      <th>魚種</th>\n      <th>目方</th>\n      <th>卸売数量[kg]</th>\n      <th>高値[円/kg]</th>\n      <th>平均[円/kg]</th>\n      <th>安値[円/kg]</th>\n      <th>1箱重量[kg]</th>\n    </tr>\n  </thead>\n  <tbody>\n    <tr>\n      <th>0</th>\n      <td>2020-12-23</td>\n      <td>底曳網</td>\n      <td>あかがい(ｴｿﾞﾎﾞﾗﾓﾄﾞｷ)</td>\n      <td>あかがい</td>\n      <td>-</td>\n      <td>85</td>\n      <td>1200</td>\n      <td>812</td>\n      <td>100</td>\n      <td>5</td>\n    </tr>\n    <tr>\n      <th>1</th>\n      <td>2020-12-23</td>\n      <td>底曳網</td>\n      <td>加能ガニ活魚(ｽﾞﾜｲｶﾞﾆ)</td>\n      <td>加能ガニ活魚</td>\n      <td>-</td>\n      <td>18</td>\n      <td>25000</td>\n      <td>14125</td>\n      <td>10500</td>\n      <td>-</td>\n    </tr>\n    <tr>\n      <th>2</th>\n      <td>2020-12-23</td>\n      <td>底曳網</td>\n      <td>加能ガニ天2入(ｽﾞﾜｲ足折)</td>\n      <td>加能ガニ天</td>\n      <td>2入</td>\n      <td>16</td>\n      <td>8500</td>\n      <td>4938</td>\n      <td>1000</td>\n      <td>4</td>\n    </tr>\n    <tr>\n      <th>3</th>\n      <td>2020-12-23</td>\n      <td>底曳網</td>\n      <td>加能ガニ天3入(ｽﾞﾜｲ足折)</td>\n      <td>加能ガニ天</td>\n      <td>3入</td>\n      <td>16</td>\n      <td>7000</td>\n      <td>5562</td>\n      <td>2500</td>\n      <td>4</td>\n    </tr>\n    <tr>\n      <th>4</th>\n      <td>2020-12-23</td>\n      <td>底曳網</td>\n      <td>加能ガニ天4入(ｽﾞﾜｲ足折)</td>\n      <td>加能ガニ天</td>\n      <td>4入</td>\n      <td>44</td>\n      <td>13750</td>\n      <td>7200</td>\n      <td>2500</td>\n      <td>4</td>\n    </tr>\n    <tr>\n      <th>...</th>\n      <td>...</td>\n      <td>...</td>\n      <td>...</td>\n      <td>...</td>\n      <td>...</td>\n      <td>...</td>\n      <td>...</td>\n      <td>...</td>\n      <td>...</td>\n      <td>...</td>\n    </tr>\n    <tr>\n      <th>506</th>\n      <td>2020-12-02</td>\n      <td>底曳網</td>\n      <td>加能ガニ10入(ｽﾞﾜｲｶﾞﾆ)</td>\n      <td>加能ガニ</td>\n      <td>10入</td>\n      <td>80</td>\n      <td>15000</td>\n      <td>11147</td>\n      <td>6000</td>\n      <td>4</td>\n    </tr>\n    <tr>\n      <th>507</th>\n      <td>2020-12-02</td>\n      <td>底曳網</td>\n      <td>まだら</td>\n      <td>まだら</td>\n      <td>-</td>\n      <td>50</td>\n      <td>1900</td>\n      <td>940</td>\n      <td>400</td>\n      <td>5</td>\n    </tr>\n    <tr>\n      <th>508</th>\n      <td>2020-12-02</td>\n      <td>底曳網</td>\n      <td>加能ガニ8入(ｽﾞﾜｲｶﾞﾆ)</td>\n      <td>加能ガニ</td>\n      <td>8入</td>\n      <td>100</td>\n      <td>25000</td>\n      <td>15861</td>\n      <td>9500</td>\n      <td>4</td>\n    </tr>\n    <tr>\n      <th>509</th>\n      <td>2020-12-02</td>\n      <td>底曳網</td>\n      <td>加能ガニ天8入(ｽﾞﾜｲ足折)</td>\n      <td>加能ガニ天</td>\n      <td>8入</td>\n      <td>32</td>\n      <td>16250</td>\n      <td>11781</td>\n      <td>7500</td>\n      <td>4</td>\n    </tr>\n    <tr>\n      <th>510</th>\n      <td>2020-12-02</td>\n      <td>底曳網</td>\n      <td>加能ガニ天10入(ｽﾞﾜｲ足折)</td>\n      <td>加能ガニ天</td>\n      <td>10入</td>\n      <td>12</td>\n      <td>10000</td>\n      <td>7500</td>\n      <td>6250</td>\n      <td>4</td>\n    </tr>\n  </tbody>\n</table>\n<p>511 rows × 10 columns</p>\n</div>"
     },
     "metadata": {},
     "execution_count": 5
    }
   ],
   "source": [
    "# データ確認\n",
    "print(len(si.sps_data))\n",
    "print(len(si.scrape_data))\n",
    "print(len(si.sps_data_new))\n",
    "si.sps_data_new"
   ]
  },
  {
   "cell_type": "code",
   "execution_count": 6,
   "metadata": {},
   "outputs": [],
   "source": [
    "# データ保存\n",
    "si.save_sps('市況')"
   ]
  },
  {
   "cell_type": "code",
   "execution_count": 7,
   "metadata": {},
   "outputs": [
    {
     "output_type": "execute_result",
     "data": {
      "text/plain": [
       "           日付   あかがい   あかがれい    かわはぎ       するめいか  なめたがれい    ほっけ     まだい  \\\n",
       "0  2020-12-02  552.0  1259.0   570.5  990.000000   560.0  500.0  1258.0   \n",
       "1  2020-12-03    NaN     NaN     NaN  793.500000     NaN    NaN     NaN   \n",
       "2  2020-12-04    NaN     NaN  1500.0  948.333333   722.0  312.0     NaN   \n",
       "3  2020-12-06  597.0  1165.0     NaN  681.600000   469.0    NaN     NaN   \n",
       "4  2020-12-07  499.0  1005.0  1062.5  630.200000   358.0  400.0   892.0   \n",
       "\n",
       "          まだら    みずだこ  ...  はたはた  まあじ  あら  さこだい  さめ類  ぶり活〆  いぼだい  こういか  ほたるいか  \\\n",
       "0  940.000000   469.0  ...   NaN  NaN NaN   NaN  NaN   NaN   NaN   NaN    NaN   \n",
       "1         NaN     NaN  ...   NaN  NaN NaN   NaN  NaN   NaN   NaN   NaN    NaN   \n",
       "2  750.000000  1625.0  ...   NaN  NaN NaN   NaN  NaN   NaN   NaN   NaN    NaN   \n",
       "3  509.000000  1327.0  ...   NaN  NaN NaN   NaN  NaN   NaN   NaN   NaN    NaN   \n",
       "4  466.666667   179.0  ...   NaN  NaN NaN   NaN  NaN   NaN   NaN   NaN    NaN   \n",
       "\n",
       "   なめら  \n",
       "0  NaN  \n",
       "1  NaN  \n",
       "2  NaN  \n",
       "3  NaN  \n",
       "4  NaN  \n",
       "\n",
       "[5 rows x 59 columns]"
      ],
      "text/html": "<div>\n<style scoped>\n    .dataframe tbody tr th:only-of-type {\n        vertical-align: middle;\n    }\n\n    .dataframe tbody tr th {\n        vertical-align: top;\n    }\n\n    .dataframe thead th {\n        text-align: right;\n    }\n</style>\n<table border=\"1\" class=\"dataframe\">\n  <thead>\n    <tr style=\"text-align: right;\">\n      <th></th>\n      <th>日付</th>\n      <th>あかがい</th>\n      <th>あかがれい</th>\n      <th>かわはぎ</th>\n      <th>するめいか</th>\n      <th>なめたがれい</th>\n      <th>ほっけ</th>\n      <th>まだい</th>\n      <th>まだら</th>\n      <th>みずだこ</th>\n      <th>...</th>\n      <th>はたはた</th>\n      <th>まあじ</th>\n      <th>あら</th>\n      <th>さこだい</th>\n      <th>さめ類</th>\n      <th>ぶり活〆</th>\n      <th>いぼだい</th>\n      <th>こういか</th>\n      <th>ほたるいか</th>\n      <th>なめら</th>\n    </tr>\n  </thead>\n  <tbody>\n    <tr>\n      <th>0</th>\n      <td>2020-12-02</td>\n      <td>552.0</td>\n      <td>1259.0</td>\n      <td>570.5</td>\n      <td>990.000000</td>\n      <td>560.0</td>\n      <td>500.0</td>\n      <td>1258.0</td>\n      <td>940.000000</td>\n      <td>469.0</td>\n      <td>...</td>\n      <td>NaN</td>\n      <td>NaN</td>\n      <td>NaN</td>\n      <td>NaN</td>\n      <td>NaN</td>\n      <td>NaN</td>\n      <td>NaN</td>\n      <td>NaN</td>\n      <td>NaN</td>\n      <td>NaN</td>\n    </tr>\n    <tr>\n      <th>1</th>\n      <td>2020-12-03</td>\n      <td>NaN</td>\n      <td>NaN</td>\n      <td>NaN</td>\n      <td>793.500000</td>\n      <td>NaN</td>\n      <td>NaN</td>\n      <td>NaN</td>\n      <td>NaN</td>\n      <td>NaN</td>\n      <td>...</td>\n      <td>NaN</td>\n      <td>NaN</td>\n      <td>NaN</td>\n      <td>NaN</td>\n      <td>NaN</td>\n      <td>NaN</td>\n      <td>NaN</td>\n      <td>NaN</td>\n      <td>NaN</td>\n      <td>NaN</td>\n    </tr>\n    <tr>\n      <th>2</th>\n      <td>2020-12-04</td>\n      <td>NaN</td>\n      <td>NaN</td>\n      <td>1500.0</td>\n      <td>948.333333</td>\n      <td>722.0</td>\n      <td>312.0</td>\n      <td>NaN</td>\n      <td>750.000000</td>\n      <td>1625.0</td>\n      <td>...</td>\n      <td>NaN</td>\n      <td>NaN</td>\n      <td>NaN</td>\n      <td>NaN</td>\n      <td>NaN</td>\n      <td>NaN</td>\n      <td>NaN</td>\n      <td>NaN</td>\n      <td>NaN</td>\n      <td>NaN</td>\n    </tr>\n    <tr>\n      <th>3</th>\n      <td>2020-12-06</td>\n      <td>597.0</td>\n      <td>1165.0</td>\n      <td>NaN</td>\n      <td>681.600000</td>\n      <td>469.0</td>\n      <td>NaN</td>\n      <td>NaN</td>\n      <td>509.000000</td>\n      <td>1327.0</td>\n      <td>...</td>\n      <td>NaN</td>\n      <td>NaN</td>\n      <td>NaN</td>\n      <td>NaN</td>\n      <td>NaN</td>\n      <td>NaN</td>\n      <td>NaN</td>\n      <td>NaN</td>\n      <td>NaN</td>\n      <td>NaN</td>\n    </tr>\n    <tr>\n      <th>4</th>\n      <td>2020-12-07</td>\n      <td>499.0</td>\n      <td>1005.0</td>\n      <td>1062.5</td>\n      <td>630.200000</td>\n      <td>358.0</td>\n      <td>400.0</td>\n      <td>892.0</td>\n      <td>466.666667</td>\n      <td>179.0</td>\n      <td>...</td>\n      <td>NaN</td>\n      <td>NaN</td>\n      <td>NaN</td>\n      <td>NaN</td>\n      <td>NaN</td>\n      <td>NaN</td>\n      <td>NaN</td>\n      <td>NaN</td>\n      <td>NaN</td>\n      <td>NaN</td>\n    </tr>\n  </tbody>\n</table>\n<p>5 rows × 59 columns</p>\n</div>"
     },
     "metadata": {},
     "execution_count": 7
    }
   ],
   "source": [
    "# 魚種に対して全サイズの平均価格を算出。\n",
    "# 魚種を列，日付を行としたデータフレームを作成。\n",
    "df_per_day = si.merge_per_day()\n",
    "df_per_day.head(5)"
   ]
  },
  {
   "cell_type": "code",
   "execution_count": 8,
   "metadata": {},
   "outputs": [],
   "source": [
    "# データ保存\n",
    "si.set_with_df(\"by_species\", df_per_day)"
   ]
  },
  {
   "cell_type": "code",
   "execution_count": 9,
   "metadata": {},
   "outputs": [
    {
     "output_type": "execute_result",
     "data": {
      "text/plain": [
       "     魚種          日付 (底曳網) 4入(底曳網) 5入(底曳網) 3入(底曳網) 6入(底曳網) 8入(底曳網) 10入(底曳網)  \\\n",
       "0  あかがい  2020-12-02   552     NaN     NaN     NaN     NaN     NaN      NaN   \n",
       "0  あかがい  2020-12-03   NaN     NaN     NaN     NaN     NaN     NaN      NaN   \n",
       "0  あかがい  2020-12-04   NaN     NaN     NaN     NaN     NaN     NaN      NaN   \n",
       "0  あかがい  2020-12-06   597     NaN     NaN     NaN     NaN     NaN      NaN   \n",
       "0  あかがい  2020-12-07   499     NaN     NaN     NaN     NaN     NaN      NaN   \n",
       "\n",
       "  2入(底曳網)  ... 大(底曳網) 雄(刺網) 雄(その他) 雌(その他) 雌(刺網) (定置網) 小(底曳網) 中(底曳網) 中(刺網)  \\\n",
       "0     NaN  ...    NaN   NaN    NaN    NaN   NaN   NaN    NaN    NaN   NaN   \n",
       "0     NaN  ...    NaN   NaN    NaN    NaN   NaN   NaN    NaN    NaN   NaN   \n",
       "0     NaN  ...    NaN   NaN    NaN    NaN   NaN   NaN    NaN    NaN   NaN   \n",
       "0     NaN  ...    NaN   NaN    NaN    NaN   NaN   NaN    NaN    NaN   NaN   \n",
       "0     NaN  ...    NaN   NaN    NaN    NaN   NaN   NaN    NaN    NaN   NaN   \n",
       "\n",
       "  大(刺網)  \n",
       "0   NaN  \n",
       "0   NaN  \n",
       "0   NaN  \n",
       "0   NaN  \n",
       "0   NaN  \n",
       "\n",
       "[5 rows x 35 columns]"
      ],
      "text/html": "<div>\n<style scoped>\n    .dataframe tbody tr th:only-of-type {\n        vertical-align: middle;\n    }\n\n    .dataframe tbody tr th {\n        vertical-align: top;\n    }\n\n    .dataframe thead th {\n        text-align: right;\n    }\n</style>\n<table border=\"1\" class=\"dataframe\">\n  <thead>\n    <tr style=\"text-align: right;\">\n      <th></th>\n      <th>魚種</th>\n      <th>日付</th>\n      <th>(底曳網)</th>\n      <th>4入(底曳網)</th>\n      <th>5入(底曳網)</th>\n      <th>3入(底曳網)</th>\n      <th>6入(底曳網)</th>\n      <th>8入(底曳網)</th>\n      <th>10入(底曳網)</th>\n      <th>2入(底曳網)</th>\n      <th>...</th>\n      <th>大(底曳網)</th>\n      <th>雄(刺網)</th>\n      <th>雄(その他)</th>\n      <th>雌(その他)</th>\n      <th>雌(刺網)</th>\n      <th>(定置網)</th>\n      <th>小(底曳網)</th>\n      <th>中(底曳網)</th>\n      <th>中(刺網)</th>\n      <th>大(刺網)</th>\n    </tr>\n  </thead>\n  <tbody>\n    <tr>\n      <th>0</th>\n      <td>あかがい</td>\n      <td>2020-12-02</td>\n      <td>552</td>\n      <td>NaN</td>\n      <td>NaN</td>\n      <td>NaN</td>\n      <td>NaN</td>\n      <td>NaN</td>\n      <td>NaN</td>\n      <td>NaN</td>\n      <td>...</td>\n      <td>NaN</td>\n      <td>NaN</td>\n      <td>NaN</td>\n      <td>NaN</td>\n      <td>NaN</td>\n      <td>NaN</td>\n      <td>NaN</td>\n      <td>NaN</td>\n      <td>NaN</td>\n      <td>NaN</td>\n    </tr>\n    <tr>\n      <th>0</th>\n      <td>あかがい</td>\n      <td>2020-12-03</td>\n      <td>NaN</td>\n      <td>NaN</td>\n      <td>NaN</td>\n      <td>NaN</td>\n      <td>NaN</td>\n      <td>NaN</td>\n      <td>NaN</td>\n      <td>NaN</td>\n      <td>...</td>\n      <td>NaN</td>\n      <td>NaN</td>\n      <td>NaN</td>\n      <td>NaN</td>\n      <td>NaN</td>\n      <td>NaN</td>\n      <td>NaN</td>\n      <td>NaN</td>\n      <td>NaN</td>\n      <td>NaN</td>\n    </tr>\n    <tr>\n      <th>0</th>\n      <td>あかがい</td>\n      <td>2020-12-04</td>\n      <td>NaN</td>\n      <td>NaN</td>\n      <td>NaN</td>\n      <td>NaN</td>\n      <td>NaN</td>\n      <td>NaN</td>\n      <td>NaN</td>\n      <td>NaN</td>\n      <td>...</td>\n      <td>NaN</td>\n      <td>NaN</td>\n      <td>NaN</td>\n      <td>NaN</td>\n      <td>NaN</td>\n      <td>NaN</td>\n      <td>NaN</td>\n      <td>NaN</td>\n      <td>NaN</td>\n      <td>NaN</td>\n    </tr>\n    <tr>\n      <th>0</th>\n      <td>あかがい</td>\n      <td>2020-12-06</td>\n      <td>597</td>\n      <td>NaN</td>\n      <td>NaN</td>\n      <td>NaN</td>\n      <td>NaN</td>\n      <td>NaN</td>\n      <td>NaN</td>\n      <td>NaN</td>\n      <td>...</td>\n      <td>NaN</td>\n      <td>NaN</td>\n      <td>NaN</td>\n      <td>NaN</td>\n      <td>NaN</td>\n      <td>NaN</td>\n      <td>NaN</td>\n      <td>NaN</td>\n      <td>NaN</td>\n      <td>NaN</td>\n    </tr>\n    <tr>\n      <th>0</th>\n      <td>あかがい</td>\n      <td>2020-12-07</td>\n      <td>499</td>\n      <td>NaN</td>\n      <td>NaN</td>\n      <td>NaN</td>\n      <td>NaN</td>\n      <td>NaN</td>\n      <td>NaN</td>\n      <td>NaN</td>\n      <td>...</td>\n      <td>NaN</td>\n      <td>NaN</td>\n      <td>NaN</td>\n      <td>NaN</td>\n      <td>NaN</td>\n      <td>NaN</td>\n      <td>NaN</td>\n      <td>NaN</td>\n      <td>NaN</td>\n      <td>NaN</td>\n    </tr>\n  </tbody>\n</table>\n<p>5 rows × 35 columns</p>\n</div>"
     },
     "metadata": {},
     "execution_count": 9
    }
   ],
   "source": [
    "# 魚種に対して全サイズの平均価格を算出し，データフレームに格納\n",
    "df_per_day_and_species = si.merge_all_per_ds()\n",
    "df_per_day_and_species.head(5)\n",
    "# df_per_day_and_species.fillna(0, inplace=True)"
   ]
  },
  {
   "cell_type": "code",
   "execution_count": 10,
   "metadata": {},
   "outputs": [],
   "source": [
    "# データ保存\n",
    "si.set_with_df(\"by_species_size\", df_per_day_and_species)"
   ]
  },
  {
   "cell_type": "code",
   "execution_count": 11,
   "metadata": {},
   "outputs": [
    {
     "output_type": "execute_result",
     "data": {
      "text/plain": [
       "<Response [200]>"
      ]
     },
     "metadata": {},
     "execution_count": 11
    }
   ],
   "source": [
    "# slackに通知\n",
    "content = {\n",
    "    \"icon_url\" : \"https://drive.google.com/uc?export=view&id=1bbPewWm7dHriVWqHQ2IJe3uzwbN1-RHE\",\n",
    "    'username': \"JF石川市況\",\n",
    "    \"text\": f\"JF石川の市況データを更新しました\\n{important_list['sps_url']}\"\n",
    "    }\n",
    "\n",
    "webhook_url = important_list[\"slack_webhook_url\"]\n",
    "requests.post(webhook_url, data = json.dumps(content))"
   ]
  }
 ],
 "metadata": {
  "kernelspec": {
   "display_name": "Python 3.7.5 64-bit ('py37': conda)",
   "language": "python",
   "name": "python37564bitpy37condacdffe388484e45ae8019251fb57159e3"
  },
  "language_info": {
   "codemirror_mode": {
    "name": "ipython",
    "version": 3
   },
   "file_extension": ".py",
   "mimetype": "text/x-python",
   "name": "python",
   "nbconvert_exporter": "python",
   "pygments_lexer": "ipython3",
   "version": "3.7.5-final"
  }
 },
 "nbformat": 4,
 "nbformat_minor": 2
}